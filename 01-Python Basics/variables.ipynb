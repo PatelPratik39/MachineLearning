{
 "cells": [
  {
   "cell_type": "code",
   "execution_count": 2,
   "metadata": {},
   "outputs": [
    {
     "name": "stdout",
     "output_type": "stream",
     "text": [
      "age :  33\n",
      "Height :  5.1\n",
      "Name :  Chhagan\n"
     ]
    }
   ],
   "source": [
    "## Declaring andf Assigning Variabled\n",
    "\n",
    "age = 33\n",
    "height= 5.10\n",
    "name= \"Chhagan\"\n",
    "is_student = True\n",
    "\n",
    "##printing the variable\n",
    "\n",
    "print(\"age : \", age)\n",
    "print(\"Height : \", height)\n",
    "print(\"Name : \", name)"
   ]
  },
  {
   "cell_type": "code",
   "execution_count": null,
   "metadata": {},
   "outputs": [],
   "source": [
    "## Naming Conventions\n",
    "## Variable name should be descriptive\n"
   ]
  }
 ],
 "metadata": {
  "kernelspec": {
   "display_name": "Python 3",
   "language": "python",
   "name": "python3"
  },
  "language_info": {
   "codemirror_mode": {
    "name": "ipython",
    "version": 3
   },
   "file_extension": ".py",
   "mimetype": "text/x-python",
   "name": "python",
   "nbconvert_exporter": "python",
   "pygments_lexer": "ipython3",
   "version": "3.11.0"
  }
 },
 "nbformat": 4,
 "nbformat_minor": 2
}
